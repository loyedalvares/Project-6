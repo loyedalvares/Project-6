{
 "cells": [
  {
   "cell_type": "markdown",
   "metadata": {
    "collapsed": true
   },
   "source": [
    "# Image Classification\n",
    "In this project, you'll classify images from the [CIFAR-10 dataset](https://www.cs.toronto.edu/~kriz/cifar.html).  The dataset consists of airplanes, dogs, cats, and other objects. You'll preprocess the images, then train a convolutional neural network on all the samples. The images need to be normalized and the labels need to be one-hot encoded.  You'll get to apply what you learned and build a convolutional, max pooling, dropout, and fully connected layers.  At the end, you'll get to see your neural network's predictions on the sample images.\n",
    "## Getting the Data"
   ]
  },
  {
   "cell_type": "code",
   "execution_count": 1,
   "metadata": {},
   "outputs": [
    {
     "name": "stderr",
     "output_type": "stream",
     "text": [
      "CIFAR-10 Dataset: 171MB [05:24, 156kB/s]                                                                               \n"
     ]
    },
    {
     "name": "stdout",
     "output_type": "stream",
     "text": [
      "All files found!\n"
     ]
    }
   ],
   "source": [
    "from urllib.request import urlretrieve\n",
    "from os.path import isfile, isdir\n",
    "from tqdm import tqdm\n",
    "import problem_unittests as tests\n",
    "import tarfile\n",
    "\n",
    "cifar10_dataset_folder_path = 'cifar-10-batches-py'\n",
    "\n",
    "class DLProgress(tqdm):\n",
    "    last_block = 0\n",
    "\n",
    "    def hook(self, block_num=1, block_size=1, total_size=None):\n",
    "        self.total = total_size\n",
    "        self.update((block_num - self.last_block) * block_size)\n",
    "        self.last_block = block_num\n",
    "\n",
    "if not isfile('cifar-10-python.tar.gz'):\n",
    "    with DLProgress(unit='B', unit_scale=True, miniters=1, desc='CIFAR-10 Dataset') as pbar:\n",
    "        urlretrieve(\n",
    "            'https://www.cs.toronto.edu/~kriz/cifar-10-python.tar.gz',\n",
    "            'cifar-10-python.tar.gz',\n",
    "            pbar.hook)\n",
    "\n",
    "if not isdir(cifar10_dataset_folder_path):\n",
    "    with tarfile.open('cifar-10-python.tar.gz') as tar:\n",
    "        tar.extractall()\n",
    "        tar.close()\n",
    "\n",
    "\n",
    "tests.test_folder_path(cifar10_dataset_folder_path)"
   ]
  },
  {
   "cell_type": "markdown",
   "metadata": {},
   "source": [
    "## Explore the Data\n",
    "The dataset is broken into batches to prevent your machine from running out of memory.  The CIFAR-10 dataset consists of 5 batches, named `data_batch_1`, `data_batch_2`, etc.. Each batch contains the labels and images that are one of the following:\n",
    "* airplane\n",
    "* automobile\n",
    "* bird\n",
    "* cat\n",
    "* deer\n",
    "* dog\n",
    "* frog\n",
    "* horse\n",
    "* ship\n",
    "* truck\n",
    "\n",
    "Understanding a dataset is part of making predictions on the data.  Play around with the code cell below by changing the `batch_id` and `sample_id`. The `batch_id` is the id for a batch (1-5). The `sample_id` is the id for a image and label pair in the batch.\n",
    "\n",
    "Ask yourself \"What are all possible labels?\", \"What is the range of values for the image data?\", \"Are the labels in order or random?\".  Answers to questions like these will help you preprocess the data and end up with better predictions."
   ]
  },
  {
   "cell_type": "code",
   "execution_count": 2,
   "metadata": {},
   "outputs": [
    {
     "name": "stdout",
     "output_type": "stream",
     "text": [
      "\n",
      "Stats of batch 3:\n",
      "Samples: 10000\n",
      "Label Counts: {0: 994, 1: 1042, 2: 965, 3: 997, 4: 990, 5: 1029, 6: 978, 7: 1015, 8: 961, 9: 1029}\n",
      "First 20 Labels: [8, 5, 0, 6, 9, 2, 8, 3, 6, 2, 7, 4, 6, 9, 0, 0, 7, 3, 7, 2]\n",
      "\n",
      "Example of Image 5:\n",
      "Image - Min Value: 9 Max Value: 255\n",
      "Image - Shape: (32, 32, 3)\n",
      "Label - Label Id: 2 Name: bird\n"
     ]
    },
    {
     "data": {
      "image/png": "[encoded data removed]",
      "text/plain": [
       "<Figure size 432x288 with 1 Axes>"
      ]
     },
     "metadata": {
      "image/png": {
       "height": 250,
       "width": 253
      },
      "needs_background": "light"
     },
     "output_type": "display_data"
    }
   ],
   "source": [
    "%matplotlib inline\n",
    "%config InlineBackend.figure_format = 'retina'\n",
    "\n",
    "import helper\n",
    "import numpy as np\n",
    "\n",
    "# Explore the dataset\n",
    "batch_id = 3\n",
    "sample_id = 5\n",
    "helper.display_stats(cifar10_dataset_folder_path, batch_id, sample_id)"
   ]
  },
  {
   "cell_type": "markdown",
   "metadata": {},
   "source": [
    "## Implement Preprocess Functions\n",
    "### Normalize\n",
    "In the cell below, implement the `normalize` function to take in image data, `x`, and return it as a normalized Numpy array. The values should be in the range of 0 to 1, inclusive.  The return object should be the same shape as `x`."
   ]
  },
  {
   "cell_type": "code",
   "execution_count": 3,
   "metadata": {},
   "outputs": [
    {
     "name": "stdout",
     "output_type": "stream",
     "text": [
      "Tests Passed\n"
     ]
    }
   ],
   "source": [
    "def normalize(x):\n",
    "    \"\"\"\n",
    "    Normalize a list of sample image data in the range of 0 to 1\n",
    "    : x: List of image data.  The image shape is (32, 32, 3)\n",
    "    : return: Numpy array of normalize data\n",
    "    \"\"\"\n",
    "    # TODO: Implement Function\n",
    "    return x / 255\n",
    "\n",
    "tests.test_normalize(normalize)"
   ]
  },
  {
   "cell_type": "markdown",
   "metadata": {},
   "source": [
    "### One-hot encode\n",
    "Just like the previous code cell, we will be implementing a function for preprocessing.  This time, we will implement the `one_hot_encode` function. The input, `x`, are a list of labels.  Implement the function to return the list of labels as One-Hot encoded Numpy array.  The possible values for labels are 0 to 9. The one-hot encoding function should return the same encoding for each value between each call to `one_hot_encode`.  Make sure to save the map of encodings outside the function."
   ]
  },
  {
   "cell_type": "code",
   "execution_count": 4,
   "metadata": {},
   "outputs": [
    {
     "name": "stderr",
     "output_type": "stream",
     "text": [
      "Using TensorFlow backend.\n"
     ]
    },
    {
     "name": "stdout",
     "output_type": "stream",
     "text": [
      "Tests Passed\n"
     ]
    }
   ],
   "source": [
    "from keras.utils import np_utils\n",
    "def one_hot_encode(x):\n",
    "    \"\"\"\n",
    "    One hot encode a list of sample labels. Return a one-hot encoded vector for each label.\n",
    "    : x: List of sample Labels\n",
    "    : return: Numpy array of one-hot encoded labels\n",
    "    \"\"\"\n",
    "    # TODO: Implement Function\n",
    "    return np_utils.to_categorical(x)\n",
    "\n",
    "tests.test_one_hot_encode(one_hot_encode)"
   ]
  },
  {
   "cell_type": "markdown",
   "metadata": {},
   "source": [
    "### Randomize Data\n",
    "As we saw from exploring the data above, the order of the samples are randomized.  It doesn't hurt to randomize it again, but we don't need to for this dataset."
   ]
  },
  {
   "cell_type": "markdown",
   "metadata": {},
   "source": [
    "## Preprocess all the data and save it\n",
    "Running the code cell below will preprocess all the CIFAR-10 data and save it to file. The code below also uses 10% of the training data for validation."
   ]
  },
  {
   "cell_type": "code",
   "execution_count": 5,
   "metadata": {},
   "outputs": [],
   "source": [
    "# Preprocess Training, Validation, and Testing Data\n",
    "helper.preprocess_and_save_data(cifar10_dataset_folder_path, normalize, one_hot_encode)"
   ]
  },
  {
   "cell_type": "markdown",
   "metadata": {},
   "source": [
    "# Check Point"
   ]
  },
  {
   "cell_type": "code",
   "execution_count": 6,
   "metadata": {},
   "outputs": [],
   "source": [
    "import pickle\n",
    "import problem_unittests as tests\n",
    "import helper\n",
    "\n",
    "# Load the Preprocessed Validation data\n",
    "valid_features, valid_labels = pickle.load(open('preprocess_validation.p', mode='rb'))"
   ]
  },
  {
   "cell_type": "markdown",
   "metadata": {},
   "source": [
    "## Build the network\n",
    "For the neural network, we will build each layer into a function.  Most of the code we have seen has been outside of functions. To test your code more thoroughly, we require that we put each layer in a function.  This allows us to give a better feedback and test for simple mistakes using our unittests.\n",
    "\n",
    "\n",
    "### Input\n",
    "The neural network needs to read the image data, one-hot encoded labels, and dropout keep probability. Implement the following functions\n",
    "* Implement `neural_net_image_input`\n",
    " * Return a [TF Placeholder](https://www.tensorflow.org/api_docs/python/tf/placeholder)\n",
    " * Set the shape using `image_shape` with batch size set to `None`.\n",
    " * Name the TensorFlow placeholder \"x\" using the TensorFlow `name` parameter in the [TF Placeholder](https://www.tensorflow.org/api_docs/python/tf/placeholder).\n",
    "* Implement `neural_net_label_input`\n",
    " * Return a [TF Placeholder](https://www.tensorflow.org/api_docs/python/tf/placeholder)\n",
    " * Set the shape using `n_classes` with batch size set to `None`.\n",
    " * Name the TensorFlow placeholder \"y\" using the TensorFlow `name` parameter in the [TF Placeholder](https://www.tensorflow.org/api_docs/python/tf/placeholder).\n",
    "* Implement `neural_net_keep_prob_input`\n",
    " * Return a [TF Placeholder](https://www.tensorflow.org/api_docs/python/tf/placeholder) for dropout keep probability.\n",
    " * Name the TensorFlow placeholder \"keep_prob\" using the TensorFlow `name` parameter in the [TF Placeholder](https://www.tensorflow.org/api_docs/python/tf/placeholder).\n",
    "\n",
    "These names will be used at the end of the project to load our saved model.\n",
    "\n",
    "Note: `None` for shapes in TensorFlow allow for a dynamic size."
   ]
  },
  {
   "cell_type": "code",
   "execution_count": 7,
   "metadata": {},
   "outputs": [
    {
     "name": "stdout",
     "output_type": "stream",
     "text": [
      "Image Input Tests Passed.\n",
      "Label Input Tests Passed.\n",
      "Keep Prob Tests Passed.\n"
     ]
    }
   ],
   "source": [
    "import tensorflow as tf\n",
    "\n",
    "def neural_net_image_input(image_shape):\n",
    "    \"\"\"\n",
    "    Return a Tensor for a batch of image input\n",
    "    : image_shape: Shape of the images\n",
    "    : return: Tensor for image input.\n",
    "    \"\"\"\n",
    "    # TODO: Implement Function\n",
    "    shape = [None] + list(image_shape)\n",
    "    return tf.placeholder(tf.float32, shape = shape, name = \"x\")\n",
    "\n",
    "def neural_net_label_input(n_classes):\n",
    "    \"\"\"\n",
    "    Return a Tensor for a batch of label input\n",
    "    : n_classes: Number of classes\n",
    "    : return: Tensor for label input.\n",
    "    \"\"\"\n",
    "    # TODO: Implement Function\n",
    "    return tf.placeholder(tf.float32, shape = [None,n_classes], name = \"y\")\n",
    "\n",
    "\n",
    "def neural_net_keep_prob_input():\n",
    "    \"\"\"\n",
    "    Return a Tensor for keep probability\n",
    "    : return: Tensor for keep probability.\n",
    "    \"\"\"\n",
    "    # TODO: Implement Function\n",
    "    return tf.placeholder(tf.float32, name = \"keep_prob\")\n",
    "\n",
    "tf.reset_default_graph()\n",
    "tests.test_nn_image_inputs(neural_net_image_input)\n",
    "tests.test_nn_label_inputs(neural_net_label_input)\n",
    "tests.test_nn_keep_prob_inputs(neural_net_keep_prob_input)"
   ]
  },
  {
   "cell_type": "markdown",
   "metadata": {},
   "source": [
    "### Convolution and Max Pooling Layer\n",
    "Convolution layers have a lot of success with images. For this code cell, we should implement the function `conv2d_maxpool` to apply convolution then max pooling:\n",
    "* Create the weight and bias using `conv_ksize`, `conv_num_outputs` and the shape of `x_tensor`.\n",
    "* Apply a convolution to `x_tensor` using weight and `conv_strides`.\n",
    " * We recommend you use same padding, but you're welcome to use any padding.\n",
    "* Add bias\n",
    "* Add a nonlinear activation to the convolution.\n",
    "* Apply Max Pooling using `pool_ksize` and `pool_strides`.\n",
    " * We recommend you use same padding, but you're welcome to use any padding.\n",
    "\n",
    "Note: We **can't** use [TensorFlow Layers](https://www.tensorflow.org/api_docs/python/tf/layers) or [TensorFlow Layers (contrib)](https://www.tensorflow.org/api_guides/python/contrib.layers) for this layer.  We are free to use any TensorFlow package for all the other layers."
   ]
  },
  {
   "cell_type": "code",
   "execution_count": 8,
   "metadata": {},
   "outputs": [],
   "source": [
    "def new_weights(shape):\n",
    "    # Create new weights for each layer\n",
    "    return tf.Variable(tf.truncated_normal(shape, stddev=0.05))\n",
    "    \n",
    "def new_biases(length):\n",
    "    # Create new biases for each layer\n",
    "    return tf.Variable(tf.constant(0.05, shape=[length]))"
   ]
  },
  {
   "cell_type": "code",
   "execution_count": 9,
   "metadata": {
    "scrolled": true
   },
   "outputs": [
    {
     "name": "stdout",
     "output_type": "stream",
     "text": [
      "WARNING:tensorflow:From C:\\Users\\user\\Anaconda3\\lib\\site-packages\\tensorflow\\python\\framework\\op_def_library.py:263: colocate_with (from tensorflow.python.framework.ops) is deprecated and will be removed in a future version.\n",
      "Instructions for updating:\n",
      "Colocations handled automatically by placer.\n",
      "Tests Passed\n"
     ]
    }
   ],
   "source": [
    "def conv2d_maxpool(x_tensor, conv_num_outputs, conv_ksize, conv_strides, pool_ksize, pool_strides):\n",
    "    \"\"\"\n",
    "    Apply convolution then max pooling to x_tensor\n",
    "    :param x_tensor: TensorFlow Tensor\n",
    "    :param conv_num_outputs: Number of outputs for the convolutional layer\n",
    "    :param conv_strides: Stride 2-D Tuple for convolution\n",
    "    :param pool_ksize: kernal size 2-D Tuple for pool\n",
    "    :param pool_strides: Stride 2-D Tuple for pool\n",
    "    : return: A tensor that represents convolution and max pooling of x_tensor\n",
    "    \"\"\"\n",
    "    # TODO: Implement Function\n",
    "    \n",
    "    # Number of input units to a layer\n",
    "    conv_num_inputs = x_tensor.get_shape().as_list()[3]\n",
    "    \n",
    "    conv_height = conv_ksize[0]\n",
    "    conv_width = conv_ksize[1]\n",
    "    \n",
    "    conv_shape = [conv_height, conv_width, conv_num_inputs, conv_num_outputs]\n",
    "    \n",
    "    # Update the weights before building the convolutional neural network\n",
    "    weights = new_weights(shape = conv_shape)\n",
    "    \n",
    "    x_tensor = tf.nn.conv2d(input = x_tensor,\n",
    "                            filter = weights,\n",
    "                            strides = [1, conv_strides[0], conv_strides[1], 1],\n",
    "                            padding = 'SAME')\n",
    "    \n",
    "    # Update the biases before applying them\n",
    "    biases = new_biases(length = conv_num_outputs)\n",
    "    x_tensor += biases\n",
    "    \n",
    "    # Apply the activation function\n",
    "    x_tensor = tf.nn.elu(x_tensor)\n",
    "    \n",
    "    x_tensor = tf.nn.max_pool(value = x_tensor,\n",
    "                               ksize=[1, conv_height, conv_width, 1],\n",
    "                               strides=[1, pool_strides[0], pool_strides[1], 1],\n",
    "                               padding='SAME')\n",
    "    \n",
    "    return x_tensor \n",
    "\n",
    "tests.test_con_pool(conv2d_maxpool)"
   ]
  },
  {
   "cell_type": "markdown",
   "metadata": {},
   "source": [
    "### Flatten Layer\n",
    "Implement the `flatten` function to change the dimension of `x_tensor` from a 4-D tensor to a 2-D tensor.  The output should be the shape (*Batch Size*, *Flattened Image Size*). You can use [TensorFlow Layers](https://www.tensorflow.org/api_docs/python/tf/layers) or [TensorFlow Layers (contrib)](https://www.tensorflow.org/api_guides/python/contrib.layers) for this layer."
   ]
  },
  {
   "cell_type": "code",
   "execution_count": 10,
   "metadata": {},
   "outputs": [
    {
     "name": "stdout",
     "output_type": "stream",
     "text": [
      "Tests Passed\n"
     ]
    }
   ],
   "source": [
    "def flatten(x_tensor):\n",
    "    \"\"\"\n",
    "    Flatten x_tensor to (Batch Size, Flattened Image Size)\n",
    "    : x_tensor: A tensor of size (Batch Size, ...), where ... are the image dimensions.\n",
    "    : return: A tensor of size (Batch Size, Flattened Image Size).\n",
    "    \"\"\"\n",
    "    # TODO: Implement Function\n",
    "    \n",
    "    # The shape of the input layer is assumed to be:\n",
    "    # layer_shape == [num_images, img_height, img_width, num_channels]\n",
    "    layer_shape = x_tensor.get_shape()\n",
    "    \n",
    "    # The number of features is: img_height * img_width * num_channels\n",
    "    # We can use a function from TensorFlow to calculate this.\n",
    "    num_features = layer_shape[1:4].num_elements()\n",
    "    \n",
    "    # Reshape the layer to [num_images, num_features].\n",
    "    # Note that we just set the size of the second dimension\n",
    "    # to num_features and the size of the first dimension to -1\n",
    "    # which means the size in that dimension is calculated\n",
    "    # so the total size of the tensor is unchanged from the reshaping.\n",
    "    x_tensor = tf.reshape(x_tensor, [-1, num_features])\n",
    "    \n",
    "    return x_tensor\n",
    "\n",
    "tests.test_flatten(flatten)"
   ]
  },
  {
   "cell_type": "markdown",
   "metadata": {},
   "source": [
    "### Fully-Connected Layer\n",
    "Implement the `fully_conn` function to apply a fully connected layer to `x_tensor` with the shape (*Batch Size*, *num_outputs*). We can use [TensorFlow Layers](https://www.tensorflow.org/api_docs/python/tf/layers) or [TensorFlow Layers (contrib)](https://www.tensorflow.org/api_guides/python/contrib.layers) for this layer."
   ]
  },
  {
   "cell_type": "code",
   "execution_count": 11,
   "metadata": {},
   "outputs": [
    {
     "name": "stdout",
     "output_type": "stream",
     "text": [
      "Tests Passed\n"
     ]
    }
   ],
   "source": [
    "def fully_conn(x_tensor, num_outputs):\n",
    "    \"\"\"\n",
    "    Apply a fully connected layer to x_tensor using weight and bias\n",
    "    : x_tensor: A 2-D tensor where the first dimension is batch size.\n",
    "    : num_outputs: The number of output that the new tensor should be.\n",
    "    : return: A 2-D tensor where the second dimension is num_outputs.\n",
    "    \"\"\"\n",
    "    # TODO: Implement Function\n",
    "    num_inputs = x_tensor.get_shape().as_list()[1]\n",
    "    weights = new_weights(shape=[num_inputs, num_outputs])\n",
    "    biases = new_biases(length=num_outputs)\n",
    "    \n",
    "    layer = tf.add(tf.matmul(x_tensor, weights), biases)\n",
    "\n",
    "    layer = tf.nn.elu(layer)\n",
    "    \n",
    "    return layer\n",
    "\n",
    "tests.test_fully_conn(fully_conn)"
   ]
  },
  {
   "cell_type": "markdown",
   "metadata": {},
   "source": [
    "### Output Layer\n",
    "Implement the `output` function to apply a fully connected layer to `x_tensor` with the shape (*Batch Size*, *num_outputs*). We can also use [TensorFlow Layers](https://www.tensorflow.org/api_docs/python/tf/layers) or [TensorFlow Layers (contrib)](https://www.tensorflow.org/api_guides/python/contrib.layers) for this layer.\n",
    "\n",
    "Note: Activation, softmax, or cross entropy shouldn't be applied to this."
   ]
  },
  {
   "cell_type": "code",
   "execution_count": 12,
   "metadata": {},
   "outputs": [
    {
     "name": "stdout",
     "output_type": "stream",
     "text": [
      "Tests Passed\n"
     ]
    }
   ],
   "source": [
    "def output(x_tensor, num_outputs):\n",
    "    \"\"\"\n",
    "    Apply a output layer to x_tensor using weight and bias\n",
    "    : x_tensor: A 2-D tensor where the first dimension is batch size.\n",
    "    : num_outputs: The number of output that the new tensor should be.\n",
    "    : return: A 2-D tensor where the second dimension is num_outputs.\n",
    "    \"\"\"\n",
    "    # TODO: Implement Function\n",
    "    \n",
    "    num_inputs = x_tensor.get_shape().as_list()[1]\n",
    "    weights = new_weights(shape=[num_inputs, num_outputs])\n",
    "    biases = new_biases(length=num_outputs)\n",
    "    \n",
    "    layer = tf.add(tf.matmul(x_tensor, weights), biases)\n",
    "    \n",
    "    return layer\n",
    "\n",
    "tests.test_output(output)"
   ]
  },
  {
   "cell_type": "markdown",
   "metadata": {},
   "source": [
    "### Create Convolutional Model\n",
    "Implement the function `conv_net` to create a convolutional neural network model. The function takes in a batch of images, `x`, and outputs logits.  Use the layers you created above to create this model:\n",
    "\n",
    "* Apply 1, 2, or 3 Convolution and Max Pool layers\n",
    "* Apply a Flatten Layer\n",
    "* Apply 1, 2, or 3 Fully Connected Layers\n",
    "* Apply an Output Layer\n",
    "* Return the output\n",
    "* Apply [TensorFlow's Dropout](https://www.tensorflow.org/api_docs/python/tf/nn/dropout) to one or more layers in the model using `keep_prob`. "
   ]
  },
  {
   "cell_type": "code",
   "execution_count": 13,
   "metadata": {},
   "outputs": [
    {
     "name": "stdout",
     "output_type": "stream",
     "text": [
      "WARNING:tensorflow:From <ipython-input-13-f605bbc931d7>:21: calling dropout (from tensorflow.python.ops.nn_ops) with keep_prob is deprecated and will be removed in a future version.\n",
      "Instructions for updating:\n",
      "Please use `rate` instead of `keep_prob`. Rate should be set to `rate = 1 - keep_prob`.\n",
      "WARNING:tensorflow:From <ipython-input-13-f605bbc931d7>:79: softmax_cross_entropy_with_logits (from tensorflow.python.ops.nn_ops) is deprecated and will be removed in a future version.\n",
      "Instructions for updating:\n",
      "\n",
      "Future major versions of TensorFlow will allow gradients to flow\n",
      "into the labels input on backprop by default.\n",
      "\n",
      "See `tf.nn.softmax_cross_entropy_with_logits_v2`.\n",
      "\n",
      "Neural Network Built!\n"
     ]
    }
   ],
   "source": [
    "def conv_net(x, keep_prob):\n",
    "    \"\"\"\n",
    "    Create a convolutional neural network model\n",
    "    : x: Placeholder tensor that holds image data.\n",
    "    : keep_prob: Placeholder tensor that hold dropout keep probability.\n",
    "    : return: Tensor that represents logits\n",
    "    \"\"\"\n",
    "    # TODO: Apply 1, 2, or 3 Convolution and Max Pool layers\n",
    "    #    Play around with different number of outputs, kernel size and stride\n",
    "    # Function Definition from Above:\n",
    "    #    conv2d_maxpool(x_tensor, conv_num_outputs, conv_ksize, conv_strides, pool_ksize, pool_strides)\n",
    "    \n",
    "    # Layer 1\n",
    "    x1 = conv2d_maxpool(x_tensor = x, \n",
    "                   conv_num_outputs = 32, \n",
    "                   conv_ksize = (5,5), \n",
    "                   conv_strides = (2,2), \n",
    "                   pool_ksize = (2,2), \n",
    "                   pool_strides = (1,1))\n",
    "    \n",
    "    x1 = tf.nn.dropout(x1, keep_prob)\n",
    "    \n",
    "    # Layer 2\n",
    "    x2 = conv2d_maxpool(x_tensor = x1, \n",
    "                   conv_num_outputs = 64, \n",
    "                   conv_ksize = (5,5), \n",
    "                   conv_strides = (1,1), \n",
    "                   pool_ksize = (2,2), \n",
    "                   pool_strides = (1,1))\n",
    "    \n",
    "    x2 = tf.nn.dropout(x2, keep_prob)\n",
    "    \n",
    "    # TODO: Apply a Flatten Layer\n",
    "    # Function Definition from Above:\n",
    "    #   flatten(x_tensor)\n",
    "    \n",
    "    x2 = flatten(x_tensor = x2)\n",
    "\n",
    "    # TODO: Apply 1, 2, or 3 Fully Connected Layers\n",
    "    #    Play around with different number of outputs\n",
    "    # Function Definition from Above:\n",
    "    #   fully_conn(x_tensor, num_outputs)\n",
    "    \n",
    "    x2 = fully_conn(x_tensor = x2,\n",
    "               num_outputs = 128)\n",
    "    x2 = fully_conn(x_tensor = x2,\n",
    "               num_outputs = 256)\n",
    "    \n",
    "    # TODO: Apply an Output Layer\n",
    "    #    Set this to the number of classes\n",
    "    # Function Definition from Above:\n",
    "    #   output(x_tensor, num_outputs)\n",
    "    \n",
    "    x2 = output(x_tensor = x2,\n",
    "               num_outputs = 10)\n",
    "    \n",
    "    # TODO: return output\n",
    "    return x2\n",
    "\n",
    "##############################\n",
    "## Build the Neural Network ##\n",
    "##############################\n",
    "\n",
    "# Remove previous weights, bias, inputs, etc..\n",
    "tf.reset_default_graph()\n",
    "\n",
    "# Inputs\n",
    "x = neural_net_image_input((32, 32, 3))\n",
    "y = neural_net_label_input(10)\n",
    "keep_prob = neural_net_keep_prob_input()\n",
    "\n",
    "# Model\n",
    "logits = conv_net(x, keep_prob)\n",
    "\n",
    "# Name logits Tensor, so that is can be loaded from disk after training\n",
    "logits = tf.identity(logits, name='logits')\n",
    "\n",
    "# Loss and Optimizer\n",
    "cost = tf.reduce_mean(tf.nn.softmax_cross_entropy_with_logits(logits=logits, labels=y))\n",
    "optimizer = tf.train.AdamOptimizer().minimize(cost)\n",
    "\n",
    "# Accuracy\n",
    "correct_pred = tf.equal(tf.argmax(logits, 1), tf.argmax(y, 1))\n",
    "accuracy = tf.reduce_mean(tf.cast(correct_pred, tf.float32), name='accuracy')\n",
    "\n",
    "tests.test_conv_net(conv_net)"
   ]
  },
  {
   "cell_type": "markdown",
   "metadata": {},
   "source": [
    "## Train the Neural Network\n",
    "### Single Optimization\n",
    "Implement the function `train_neural_network` to do a single optimization.  The optimization should use `optimizer` to optimize in `session` with a `feed_dict` of the following:\n",
    "* `x` for image input\n",
    "* `y` for labels\n",
    "* `keep_prob` for keep probability for dropout\n",
    "\n",
    "This function will be called for each batch, so `tf.global_variables_initializer()` has already been called.\n",
    "\n",
    "Note: Nothing needs to be returned. This function is only optimizing the neural network."
   ]
  },
  {
   "cell_type": "code",
   "execution_count": 14,
   "metadata": {},
   "outputs": [
    {
     "name": "stdout",
     "output_type": "stream",
     "text": [
      "Tests Passed\n"
     ]
    }
   ],
   "source": [
    "def train_neural_network(session, optimizer, keep_probability, feature_batch, label_batch):\n",
    "    \"\"\"\n",
    "    Optimize the session on a batch of images and labels\n",
    "    : session: Current TensorFlow session\n",
    "    : optimizer: TensorFlow optimizer function\n",
    "    : keep_probability: keep probability\n",
    "    : feature_batch: Batch of Numpy image data\n",
    "    : label_batch: Batch of Numpy label data\n",
    "    \"\"\"\n",
    "    # TODO: Implement Function\n",
    "    \n",
    "    session.run(optimizer, feed_dict = {x: feature_batch,\n",
    "                                        y: label_batch,\n",
    "                                        keep_prob: keep_probability})\n",
    "\n",
    "tests.test_train_nn(train_neural_network)"
   ]
  },
  {
   "cell_type": "markdown",
   "metadata": {},
   "source": [
    "### Show Stats\n",
    "Implement the function `print_stats` to print loss and validation accuracy.  Use the global variables `valid_features` and `valid_labels` to calculate validation accuracy.  Use a keep probability of `1.0` to calculate the loss and validation accuracy."
   ]
  },
  {
   "cell_type": "code",
   "execution_count": 15,
   "metadata": {},
   "outputs": [],
   "source": [
    "def print_stats(session, feature_batch, label_batch, cost, accuracy):\n",
    "    \"\"\"\n",
    "    Print information about loss and validation accuracy\n",
    "    : session: Current TensorFlow session\n",
    "    : feature_batch: Batch of Numpy image data\n",
    "    : label_batch: Batch of Numpy label data\n",
    "    : cost: TensorFlow cost function\n",
    "    : accuracy: TensorFlow accuracy function\n",
    "    \"\"\"\n",
    "    # TODO: Implement Function\n",
    "    cost_score, accuracy_score = session.run([cost, accuracy], feed_dict = {x: valid_features,\n",
    "                                                                            y: valid_labels,\n",
    "                                                                            keep_prob: 1})\n",
    "    \n",
    "    print(\"cost_score = {0:>6.4}, accuracy_score = {1:>3.4%}\".format(cost_score, accuracy_score))"
   ]
  },
  {
   "cell_type": "markdown",
   "metadata": {},
   "source": [
    "### Hyperparameters\n",
    "Tune the following parameters:\n",
    "* Set `epochs` to the number of iterations until the network stops learning or start overfitting\n",
    "* Set `batch_size` to the highest number that your machine has memory for.  Most people set them to common sizes of memory:\n",
    " * 64\n",
    " * 128\n",
    " * 256\n",
    " * ...\n",
    "* Set `keep_probability` to the probability of keeping a node using dropout"
   ]
  },
  {
   "cell_type": "code",
   "execution_count": 16,
   "metadata": {},
   "outputs": [],
   "source": [
    "# TODO: Tune Parameters\n",
    "epochs = 20\n",
    "batch_size = 128\n",
    "keep_probability = 0.7"
   ]
  },
  {
   "cell_type": "markdown",
   "metadata": {},
   "source": [
    "### Train on a Single CIFAR-10 Batch\n",
    "Instead of training the neural network on all the CIFAR-10 batches of data, let's use a single batch. This should save time while you iterate on the model to get a better accuracy.  Once the final validation accuracy is 50% or greater, run the model on all the data in the next section."
   ]
  },
  {
   "cell_type": "code",
   "execution_count": 17,
   "metadata": {},
   "outputs": [
    {
     "name": "stdout",
     "output_type": "stream",
     "text": [
      "Checking the Training on a Single Batch...\n",
      "Epoch  1, CIFAR-10 Batch 1:  cost_score =  1.796, accuracy_score = 36.2400%\n",
      "Epoch  2, CIFAR-10 Batch 1:  cost_score =  1.619, accuracy_score = 43.4000%\n",
      "Epoch  3, CIFAR-10 Batch 1:  cost_score =  1.486, accuracy_score = 47.5600%\n",
      "Epoch  4, CIFAR-10 Batch 1:  cost_score =  1.462, accuracy_score = 48.9000%\n",
      "Epoch  5, CIFAR-10 Batch 1:  cost_score =  1.562, accuracy_score = 47.7800%\n",
      "Epoch  6, CIFAR-10 Batch 1:  cost_score =   1.35, accuracy_score = 53.8800%\n",
      "Epoch  7, CIFAR-10 Batch 1:  cost_score =  1.317, accuracy_score = 55.8600%\n",
      "Epoch  8, CIFAR-10 Batch 1:  cost_score =  1.284, accuracy_score = 57.0800%\n",
      "Epoch  9, CIFAR-10 Batch 1:  cost_score =  1.345, accuracy_score = 56.2600%\n",
      "Epoch 10, CIFAR-10 Batch 1:  cost_score =  1.464, accuracy_score = 54.4800%\n",
      "Epoch 11, CIFAR-10 Batch 1:  cost_score =  1.458, accuracy_score = 56.4200%\n",
      "Epoch 12, CIFAR-10 Batch 1:  cost_score =  1.521, accuracy_score = 56.6000%\n",
      "Epoch 13, CIFAR-10 Batch 1:  cost_score =  1.559, accuracy_score = 56.4800%\n",
      "Epoch 14, CIFAR-10 Batch 1:  cost_score =  1.718, accuracy_score = 55.2600%\n",
      "Epoch 15, CIFAR-10 Batch 1:  cost_score =  1.801, accuracy_score = 53.7000%\n",
      "Epoch 16, CIFAR-10 Batch 1:  cost_score =  2.118, accuracy_score = 52.0600%\n",
      "Epoch 17, CIFAR-10 Batch 1:  cost_score =  1.841, accuracy_score = 54.2800%\n",
      "Epoch 18, CIFAR-10 Batch 1:  cost_score =  1.643, accuracy_score = 56.4400%\n",
      "Epoch 19, CIFAR-10 Batch 1:  cost_score =  1.606, accuracy_score = 58.2600%\n",
      "Epoch 20, CIFAR-10 Batch 1:  cost_score =  1.786, accuracy_score = 57.7200%\n"
     ]
    }
   ],
   "source": [
    "print('Checking the Training on a Single Batch...')\n",
    "with tf.Session() as sess:\n",
    "    # Initializing the variables\n",
    "    sess.run(tf.global_variables_initializer())\n",
    "    \n",
    "    # Training cycle\n",
    "    for epoch in range(epochs):\n",
    "        batch_i = 1\n",
    "        for batch_features, batch_labels in helper.load_preprocess_training_batch(batch_i, batch_size):\n",
    "            train_neural_network(sess, optimizer, keep_probability, batch_features, batch_labels)\n",
    "        print('Epoch {:>2}, CIFAR-10 Batch {}:  '.format(epoch + 1, batch_i), end='')\n",
    "        print_stats(sess, batch_features, batch_labels, cost, accuracy)"
   ]
  },
  {
   "cell_type": "markdown",
   "metadata": {},
   "source": [
    "### Fully Train the Model\n",
    "Now that we have a good accuracy with a single CIFAR-10 batch, try it with all five batches."
   ]
  },
  {
   "cell_type": "code",
   "execution_count": 18,
   "metadata": {
    "scrolled": true
   },
   "outputs": [
    {
     "name": "stdout",
     "output_type": "stream",
     "text": [
      "Training...\n",
      "Epoch  1, CIFAR-10 Batch 1:  cost_score =  1.934, accuracy_score = 31.5000%\n",
      "Epoch  1, CIFAR-10 Batch 2:  cost_score =  1.885, accuracy_score = 34.6800%\n",
      "Epoch  1, CIFAR-10 Batch 3:  cost_score =  1.555, accuracy_score = 43.9400%\n",
      "Epoch  1, CIFAR-10 Batch 4:  cost_score =  1.461, accuracy_score = 47.1000%\n",
      "Epoch  1, CIFAR-10 Batch 5:  cost_score =  1.316, accuracy_score = 53.3600%\n",
      "Epoch  2, CIFAR-10 Batch 1:  cost_score =  1.255, accuracy_score = 55.0800%\n",
      "Epoch  2, CIFAR-10 Batch 2:  cost_score =  1.284, accuracy_score = 53.6200%\n",
      "Epoch  2, CIFAR-10 Batch 3:  cost_score =  1.195, accuracy_score = 57.9400%\n",
      "Epoch  2, CIFAR-10 Batch 4:  cost_score =  1.145, accuracy_score = 58.9200%\n",
      "Epoch  2, CIFAR-10 Batch 5:  cost_score =  1.095, accuracy_score = 60.6400%\n",
      "Epoch  3, CIFAR-10 Batch 1:  cost_score =  1.132, accuracy_score = 60.8000%\n",
      "Epoch  3, CIFAR-10 Batch 2:  cost_score =  1.164, accuracy_score = 59.8000%\n",
      "Epoch  3, CIFAR-10 Batch 3:  cost_score =  1.011, accuracy_score = 64.2000%\n",
      "Epoch  3, CIFAR-10 Batch 4:  cost_score =  1.015, accuracy_score = 63.6400%\n",
      "Epoch  3, CIFAR-10 Batch 5:  cost_score = 0.9982, accuracy_score = 65.0600%\n",
      "Epoch  4, CIFAR-10 Batch 1:  cost_score =  1.089, accuracy_score = 61.5800%\n",
      "Epoch  4, CIFAR-10 Batch 2:  cost_score =    1.0, accuracy_score = 64.4800%\n",
      "Epoch  4, CIFAR-10 Batch 3:  cost_score =  1.045, accuracy_score = 62.4600%\n",
      "Epoch  4, CIFAR-10 Batch 4:  cost_score = 0.9991, accuracy_score = 65.0800%\n",
      "Epoch  4, CIFAR-10 Batch 5:  cost_score = 0.9456, accuracy_score = 67.3000%\n",
      "Epoch  5, CIFAR-10 Batch 1:  cost_score = 0.9723, accuracy_score = 65.4600%\n",
      "Epoch  5, CIFAR-10 Batch 2:  cost_score = 0.9839, accuracy_score = 65.2000%\n",
      "Epoch  5, CIFAR-10 Batch 3:  cost_score = 0.9668, accuracy_score = 66.6400%\n",
      "Epoch  5, CIFAR-10 Batch 4:  cost_score = 0.9575, accuracy_score = 66.8400%\n",
      "Epoch  5, CIFAR-10 Batch 5:  cost_score = 0.9372, accuracy_score = 67.9200%\n",
      "Epoch  6, CIFAR-10 Batch 1:  cost_score = 0.9422, accuracy_score = 67.4400%\n",
      "Epoch  6, CIFAR-10 Batch 2:  cost_score = 0.9113, accuracy_score = 68.8400%\n",
      "Epoch  6, CIFAR-10 Batch 3:  cost_score = 0.9443, accuracy_score = 66.5800%\n",
      "Epoch  6, CIFAR-10 Batch 4:  cost_score = 0.9318, accuracy_score = 67.8800%\n",
      "Epoch  6, CIFAR-10 Batch 5:  cost_score = 0.8584, accuracy_score = 70.5000%\n",
      "Epoch  7, CIFAR-10 Batch 1:  cost_score =  0.922, accuracy_score = 69.4600%\n",
      "Epoch  7, CIFAR-10 Batch 2:  cost_score = 0.9122, accuracy_score = 68.9400%\n",
      "Epoch  7, CIFAR-10 Batch 3:  cost_score = 0.9061, accuracy_score = 69.3600%\n",
      "Epoch  7, CIFAR-10 Batch 4:  cost_score = 0.8879, accuracy_score = 69.5800%\n",
      "Epoch  7, CIFAR-10 Batch 5:  cost_score = 0.8856, accuracy_score = 70.7600%\n",
      "Epoch  8, CIFAR-10 Batch 1:  cost_score = 0.9046, accuracy_score = 70.2000%\n",
      "Epoch  8, CIFAR-10 Batch 2:  cost_score = 0.9612, accuracy_score = 68.7200%\n",
      "Epoch  8, CIFAR-10 Batch 3:  cost_score = 0.9225, accuracy_score = 69.4400%\n",
      "Epoch  8, CIFAR-10 Batch 4:  cost_score = 0.8645, accuracy_score = 70.1200%\n",
      "Epoch  8, CIFAR-10 Batch 5:  cost_score = 0.8916, accuracy_score = 70.8200%\n",
      "Epoch  9, CIFAR-10 Batch 1:  cost_score = 0.8992, accuracy_score = 70.4400%\n",
      "Epoch  9, CIFAR-10 Batch 2:  cost_score = 0.9545, accuracy_score = 68.8800%\n",
      "Epoch  9, CIFAR-10 Batch 3:  cost_score = 0.9666, accuracy_score = 68.7400%\n",
      "Epoch  9, CIFAR-10 Batch 4:  cost_score = 0.8925, accuracy_score = 70.3400%\n",
      "Epoch  9, CIFAR-10 Batch 5:  cost_score = 0.9333, accuracy_score = 69.3000%\n",
      "Epoch 10, CIFAR-10 Batch 1:  cost_score = 0.9669, accuracy_score = 69.2400%\n",
      "Epoch 10, CIFAR-10 Batch 2:  cost_score = 0.9452, accuracy_score = 69.8800%\n",
      "Epoch 10, CIFAR-10 Batch 3:  cost_score = 0.9097, accuracy_score = 71.2400%\n",
      "Epoch 10, CIFAR-10 Batch 4:  cost_score =  0.923, accuracy_score = 69.7800%\n",
      "Epoch 10, CIFAR-10 Batch 5:  cost_score = 0.9556, accuracy_score = 69.5600%\n",
      "Epoch 11, CIFAR-10 Batch 1:  cost_score = 0.9217, accuracy_score = 70.1600%\n",
      "Epoch 11, CIFAR-10 Batch 2:  cost_score =  1.007, accuracy_score = 69.2600%\n",
      "Epoch 11, CIFAR-10 Batch 3:  cost_score = 0.9466, accuracy_score = 69.5800%\n",
      "Epoch 11, CIFAR-10 Batch 4:  cost_score = 0.9295, accuracy_score = 69.6000%\n",
      "Epoch 11, CIFAR-10 Batch 5:  cost_score = 0.9998, accuracy_score = 69.2000%\n",
      "Epoch 12, CIFAR-10 Batch 1:  cost_score =  0.957, accuracy_score = 69.5600%\n",
      "Epoch 12, CIFAR-10 Batch 2:  cost_score = 0.9918, accuracy_score = 69.4800%\n",
      "Epoch 12, CIFAR-10 Batch 3:  cost_score =  1.004, accuracy_score = 69.0200%\n",
      "Epoch 12, CIFAR-10 Batch 4:  cost_score = 0.9583, accuracy_score = 70.0600%\n",
      "Epoch 12, CIFAR-10 Batch 5:  cost_score =  1.021, accuracy_score = 68.0600%\n",
      "Epoch 13, CIFAR-10 Batch 1:  cost_score =  1.007, accuracy_score = 69.2600%\n",
      "Epoch 13, CIFAR-10 Batch 2:  cost_score =  1.008, accuracy_score = 70.5400%\n",
      "Epoch 13, CIFAR-10 Batch 3:  cost_score = 0.9825, accuracy_score = 70.5200%\n",
      "Epoch 13, CIFAR-10 Batch 4:  cost_score = 0.9793, accuracy_score = 71.0000%\n",
      "Epoch 13, CIFAR-10 Batch 5:  cost_score = 0.9885, accuracy_score = 70.6000%\n",
      "Epoch 14, CIFAR-10 Batch 1:  cost_score =  1.068, accuracy_score = 68.5600%\n",
      "Epoch 14, CIFAR-10 Batch 2:  cost_score =  1.007, accuracy_score = 70.2600%\n",
      "Epoch 14, CIFAR-10 Batch 3:  cost_score =  1.013, accuracy_score = 70.1400%\n",
      "Epoch 14, CIFAR-10 Batch 4:  cost_score = 0.9986, accuracy_score = 70.4600%\n",
      "Epoch 14, CIFAR-10 Batch 5:  cost_score =  1.002, accuracy_score = 70.4400%\n",
      "Epoch 15, CIFAR-10 Batch 1:  cost_score =  1.081, accuracy_score = 68.4200%\n",
      "Epoch 15, CIFAR-10 Batch 2:  cost_score =  1.042, accuracy_score = 70.4000%\n",
      "Epoch 15, CIFAR-10 Batch 3:  cost_score = 0.9955, accuracy_score = 71.8000%\n",
      "Epoch 15, CIFAR-10 Batch 4:  cost_score = 0.9831, accuracy_score = 71.4000%\n",
      "Epoch 15, CIFAR-10 Batch 5:  cost_score =  1.006, accuracy_score = 71.4800%\n",
      "Epoch 16, CIFAR-10 Batch 1:  cost_score =  1.081, accuracy_score = 69.3800%\n",
      "Epoch 16, CIFAR-10 Batch 2:  cost_score =  1.106, accuracy_score = 69.2600%\n",
      "Epoch 16, CIFAR-10 Batch 3:  cost_score =  1.034, accuracy_score = 70.9400%\n",
      "Epoch 16, CIFAR-10 Batch 4:  cost_score = 0.9613, accuracy_score = 71.2000%\n",
      "Epoch 16, CIFAR-10 Batch 5:  cost_score =  1.015, accuracy_score = 71.7200%\n",
      "Epoch 17, CIFAR-10 Batch 1:  cost_score =  1.078, accuracy_score = 69.5600%\n",
      "Epoch 17, CIFAR-10 Batch 2:  cost_score =  1.064, accuracy_score = 70.4000%\n",
      "Epoch 17, CIFAR-10 Batch 3:  cost_score =  1.107, accuracy_score = 69.5600%\n",
      "Epoch 17, CIFAR-10 Batch 4:  cost_score =  1.035, accuracy_score = 70.7600%\n",
      "Epoch 17, CIFAR-10 Batch 5:  cost_score =  1.131, accuracy_score = 69.4800%\n",
      "Epoch 18, CIFAR-10 Batch 1:  cost_score =  1.118, accuracy_score = 69.7600%\n",
      "Epoch 18, CIFAR-10 Batch 2:  cost_score =  1.203, accuracy_score = 68.3000%\n",
      "Epoch 18, CIFAR-10 Batch 3:  cost_score =  1.056, accuracy_score = 71.3800%\n",
      "Epoch 18, CIFAR-10 Batch 4:  cost_score =  1.049, accuracy_score = 71.6600%\n",
      "Epoch 18, CIFAR-10 Batch 5:  cost_score =  1.146, accuracy_score = 69.9800%\n",
      "Epoch 19, CIFAR-10 Batch 1:  cost_score =  1.227, accuracy_score = 68.0800%\n",
      "Epoch 19, CIFAR-10 Batch 2:  cost_score =  1.135, accuracy_score = 70.0000%\n",
      "Epoch 19, CIFAR-10 Batch 3:  cost_score =  1.097, accuracy_score = 70.5600%\n",
      "Epoch 19, CIFAR-10 Batch 4:  cost_score =  1.054, accuracy_score = 71.4200%\n",
      "Epoch 19, CIFAR-10 Batch 5:  cost_score =  1.123, accuracy_score = 70.6200%\n",
      "Epoch 20, CIFAR-10 Batch 1:  cost_score =  1.221, accuracy_score = 68.6800%\n",
      "Epoch 20, CIFAR-10 Batch 2:  cost_score =  1.227, accuracy_score = 68.4400%\n",
      "Epoch 20, CIFAR-10 Batch 3:  cost_score =  1.123, accuracy_score = 70.9400%\n",
      "Epoch 20, CIFAR-10 Batch 4:  cost_score =  1.075, accuracy_score = 71.2000%\n",
      "Epoch 20, CIFAR-10 Batch 5:  cost_score =  1.233, accuracy_score = 69.6800%\n"
     ]
    }
   ],
   "source": [
    "save_model_path = './image_classification'\n",
    "\n",
    "print('Training...')\n",
    "with tf.Session() as sess:\n",
    "    # Initializing the variables\n",
    "    sess.run(tf.global_variables_initializer())\n",
    "    \n",
    "    # Training cycle\n",
    "    for epoch in range(epochs):\n",
    "        # Loop over all batches\n",
    "        n_batches = 5\n",
    "        for batch_i in range(1, n_batches + 1):\n",
    "            for batch_features, batch_labels in helper.load_preprocess_training_batch(batch_i, batch_size):\n",
    "                train_neural_network(sess, optimizer, keep_probability, batch_features, batch_labels)\n",
    "            print('Epoch {:>2}, CIFAR-10 Batch {}:  '.format(epoch + 1, batch_i), end='')\n",
    "            print_stats(sess, batch_features, batch_labels, cost, accuracy)\n",
    "            \n",
    "    # Save Model\n",
    "    saver = tf.train.Saver()\n",
    "    save_path = saver.save(sess, save_model_path)"
   ]
  },
  {
   "cell_type": "markdown",
   "metadata": {},
   "source": [
    "# Checkpoint\n",
    "The model has been saved to disk.\n",
    "## Test Model\n",
    "Test your model against the test dataset.  This will be the final accuracy. We should have an accuracy greater than 50%."
   ]
  },
  {
   "cell_type": "code",
   "execution_count": 19,
   "metadata": {},
   "outputs": [
    {
     "name": "stdout",
     "output_type": "stream",
     "text": [
      "WARNING:tensorflow:From C:\\Users\\user\\Anaconda3\\lib\\site-packages\\tensorflow\\python\\training\\saver.py:1266: checkpoint_exists (from tensorflow.python.training.checkpoint_management) is deprecated and will be removed in a future version.\n",
      "Instructions for updating:\n",
      "Use standard file APIs to check for files with this prefix.\n",
      "INFO:tensorflow:Restoring parameters from ./image_classification\n",
      "Testing Accuracy: 0.690565664556962\n",
      "\n"
     ]
    },
    {
     "name": "stderr",
     "output_type": "stream",
     "text": [
      "Clipping input data to the valid range for imshow with RGB data ([0..1] for floats or [0..255] for integers).\n",
      "Clipping input data to the valid range for imshow with RGB data ([0..1] for floats or [0..255] for integers).\n",
      "Clipping input data to the valid range for imshow with RGB data ([0..1] for floats or [0..255] for integers).\n",
      "Clipping input data to the valid range for imshow with RGB data ([0..1] for floats or [0..255] for integers).\n"
     ]
    },
    {
     "data": {
      "image/png": "[encoded data removed]",
      "text/plain": [
       "<Figure size 432x288 with 8 Axes>"
      ]
     },
     "metadata": {
      "image/png": {
       "height": 319,
       "width": 355
      },
      "needs_background": "light"
     },
     "output_type": "display_data"
    }
   ],
   "source": [
    "%matplotlib inline\n",
    "%config InlineBackend.figure_format = 'retina'\n",
    "\n",
    "import tensorflow as tf\n",
    "import pickle\n",
    "import helper\n",
    "import random\n",
    "\n",
    "# Set batch size if not already set\n",
    "try:\n",
    "    if batch_size:\n",
    "        pass\n",
    "except NameError:\n",
    "    batch_size = 64\n",
    "\n",
    "save_model_path = './image_classification'\n",
    "n_samples = 4\n",
    "top_n_predictions = 3\n",
    "\n",
    "def test_model():\n",
    "    \"\"\"\n",
    "    Test the saved model against the test dataset\n",
    "    \"\"\"\n",
    "\n",
    "    test_features, test_labels = pickle.load(open('preprocess_training.p', mode='rb'))\n",
    "    loaded_graph = tf.Graph()\n",
    "\n",
    "    with tf.Session(graph=loaded_graph) as sess:\n",
    "        # Load model\n",
    "        loader = tf.train.import_meta_graph(save_model_path + '.meta')\n",
    "        loader.restore(sess, save_model_path)\n",
    "\n",
    "        # Get Tensors from loaded model\n",
    "        loaded_x = loaded_graph.get_tensor_by_name('x:0')\n",
    "        loaded_y = loaded_graph.get_tensor_by_name('y:0')\n",
    "        loaded_keep_prob = loaded_graph.get_tensor_by_name('keep_prob:0')\n",
    "        loaded_logits = loaded_graph.get_tensor_by_name('logits:0')\n",
    "        loaded_acc = loaded_graph.get_tensor_by_name('accuracy:0')\n",
    "        \n",
    "        # Get accuracy in batches for memory limitations\n",
    "        test_batch_acc_total = 0\n",
    "        test_batch_count = 0\n",
    "        \n",
    "        for train_feature_batch, train_label_batch in helper.batch_features_labels(test_features, test_labels, batch_size):\n",
    "            test_batch_acc_total += sess.run(\n",
    "                loaded_acc,\n",
    "                feed_dict={loaded_x: train_feature_batch, loaded_y: train_label_batch, loaded_keep_prob: 1.0})\n",
    "            test_batch_count += 1\n",
    "\n",
    "        print('Testing Accuracy: {}\\n'.format(test_batch_acc_total/test_batch_count))\n",
    "\n",
    "        # Print Random Samples\n",
    "        random_test_features, random_test_labels = tuple(zip(*random.sample(list(zip(test_features, test_labels)), n_samples)))\n",
    "        random_test_predictions = sess.run(\n",
    "            tf.nn.top_k(tf.nn.softmax(loaded_logits), top_n_predictions),\n",
    "            feed_dict={loaded_x: random_test_features, loaded_y: random_test_labels, loaded_keep_prob: 1.0})\n",
    "        helper.display_image_predictions(random_test_features, random_test_labels, random_test_predictions)\n",
    "\n",
    "\n",
    "test_model()"
   ]
  }
 ],
 "metadata": {
  "anaconda-cloud": {},
  "kernelspec": {
   "display_name": "Python 3",
   "language": "python",
   "name": "python3"
  },
  "language_info": {
   "codemirror_mode": {
    "name": "ipython",
    "version": 3
   },
   "file_extension": ".py",
   "mimetype": "text/x-python",
   "name": "python",
   "nbconvert_exporter": "python",
   "pygments_lexer": "ipython3",
   "version": "3.7.0"
  }
 },
 "nbformat": 4,
 "nbformat_minor": 1
}
